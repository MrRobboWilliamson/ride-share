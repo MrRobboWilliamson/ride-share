{
 "cells": [
  {
   "cell_type": "markdown",
   "id": "5d02d395",
   "metadata": {},
   "source": [
    "# Split the days and hours\n",
    "- Split requests into hours to read on demand\n",
    "- Convert the times to absolute seconds"
   ]
  },
  {
   "cell_type": "code",
   "execution_count": 1,
   "id": "4cd5ea8e",
   "metadata": {},
   "outputs": [
    {
     "data": {
      "text/html": [
       "<div>\n",
       "<style scoped>\n",
       "    .dataframe tbody tr th:only-of-type {\n",
       "        vertical-align: middle;\n",
       "    }\n",
       "\n",
       "    .dataframe tbody tr th {\n",
       "        vertical-align: top;\n",
       "    }\n",
       "\n",
       "    .dataframe thead th {\n",
       "        text-align: right;\n",
       "    }\n",
       "</style>\n",
       "<table border=\"1\" class=\"dataframe\">\n",
       "  <thead>\n",
       "    <tr style=\"text-align: right;\">\n",
       "      <th></th>\n",
       "      <th>start_dt</th>\n",
       "      <th>from_node</th>\n",
       "      <th>to_node</th>\n",
       "    </tr>\n",
       "  </thead>\n",
       "  <tbody>\n",
       "    <tr>\n",
       "      <th>0</th>\n",
       "      <td>2013-05-05</td>\n",
       "      <td>1167</td>\n",
       "      <td>1956</td>\n",
       "    </tr>\n",
       "    <tr>\n",
       "      <th>1</th>\n",
       "      <td>2013-05-05</td>\n",
       "      <td>1888</td>\n",
       "      <td>2354</td>\n",
       "    </tr>\n",
       "    <tr>\n",
       "      <th>2</th>\n",
       "      <td>2013-05-05</td>\n",
       "      <td>711</td>\n",
       "      <td>1371</td>\n",
       "    </tr>\n",
       "    <tr>\n",
       "      <th>3</th>\n",
       "      <td>2013-05-05</td>\n",
       "      <td>1684</td>\n",
       "      <td>1267</td>\n",
       "    </tr>\n",
       "    <tr>\n",
       "      <th>4</th>\n",
       "      <td>2013-05-05</td>\n",
       "      <td>1385</td>\n",
       "      <td>1497</td>\n",
       "    </tr>\n",
       "  </tbody>\n",
       "</table>\n",
       "</div>"
      ],
      "text/plain": [
       "    start_dt  from_node  to_node\n",
       "0 2013-05-05       1167     1956\n",
       "1 2013-05-05       1888     2354\n",
       "2 2013-05-05        711     1371\n",
       "3 2013-05-05       1684     1267\n",
       "4 2013-05-05       1385     1497"
      ]
     },
     "execution_count": 1,
     "metadata": {},
     "output_type": "execute_result"
    }
   ],
   "source": [
    "import pandas as pd\n",
    "reqs = pd.read_csv('requests.csv',parse_dates=['start_dt'])\n",
    "reqs.head()"
   ]
  },
  {
   "cell_type": "code",
   "execution_count": 2,
   "id": "ac3399df",
   "metadata": {},
   "outputs": [],
   "source": [
    "# get the day, hour and convert times to seconds\n",
    "# map the days to sunday to saturday 0 -> 6\n",
    "reqs['day'] = (reqs['start_dt'].dt.dayofweek + 1) % 7\n",
    "reqs['hour'] = reqs['start_dt'].dt.hour\n",
    "reqs['seconds'] = (reqs['start_dt'] - reqs['start_dt'].min()).dt.\\\n",
    "    total_seconds().round(0).astype(int)\n",
    "reqs = reqs.rename(columns=dict(seconds='time')).sort_values(['time'])"
   ]
  },
  {
   "cell_type": "code",
   "execution_count": 3,
   "id": "68645d6b",
   "metadata": {},
   "outputs": [
    {
     "name": "stdout",
     "output_type": "stream",
     "text": [
      "Will be removing 27663 requests that start and finish at the same node\n"
     ]
    },
    {
     "data": {
      "text/html": [
       "<div>\n",
       "<style scoped>\n",
       "    .dataframe tbody tr th:only-of-type {\n",
       "        vertical-align: middle;\n",
       "    }\n",
       "\n",
       "    .dataframe tbody tr th {\n",
       "        vertical-align: top;\n",
       "    }\n",
       "\n",
       "    .dataframe thead th {\n",
       "        text-align: right;\n",
       "    }\n",
       "</style>\n",
       "<table border=\"1\" class=\"dataframe\">\n",
       "  <thead>\n",
       "    <tr style=\"text-align: right;\">\n",
       "      <th></th>\n",
       "      <th>start_dt</th>\n",
       "      <th>from_node</th>\n",
       "      <th>to_node</th>\n",
       "      <th>day</th>\n",
       "      <th>hour</th>\n",
       "      <th>time</th>\n",
       "    </tr>\n",
       "  </thead>\n",
       "  <tbody>\n",
       "    <tr>\n",
       "      <th>0</th>\n",
       "      <td>2013-05-05</td>\n",
       "      <td>1167</td>\n",
       "      <td>1956</td>\n",
       "      <td>0</td>\n",
       "      <td>0</td>\n",
       "      <td>0</td>\n",
       "    </tr>\n",
       "    <tr>\n",
       "      <th>136</th>\n",
       "      <td>2013-05-05</td>\n",
       "      <td>1669</td>\n",
       "      <td>1243</td>\n",
       "      <td>0</td>\n",
       "      <td>0</td>\n",
       "      <td>0</td>\n",
       "    </tr>\n",
       "    <tr>\n",
       "      <th>137</th>\n",
       "      <td>2013-05-05</td>\n",
       "      <td>1609</td>\n",
       "      <td>1632</td>\n",
       "      <td>0</td>\n",
       "      <td>0</td>\n",
       "      <td>0</td>\n",
       "    </tr>\n",
       "    <tr>\n",
       "      <th>138</th>\n",
       "      <td>2013-05-05</td>\n",
       "      <td>1092</td>\n",
       "      <td>910</td>\n",
       "      <td>0</td>\n",
       "      <td>0</td>\n",
       "      <td>0</td>\n",
       "    </tr>\n",
       "    <tr>\n",
       "      <th>139</th>\n",
       "      <td>2013-05-05</td>\n",
       "      <td>1278</td>\n",
       "      <td>867</td>\n",
       "      <td>0</td>\n",
       "      <td>0</td>\n",
       "      <td>0</td>\n",
       "    </tr>\n",
       "  </tbody>\n",
       "</table>\n",
       "</div>"
      ],
      "text/plain": [
       "      start_dt  from_node  to_node  day  hour  time\n",
       "0   2013-05-05       1167     1956    0     0     0\n",
       "136 2013-05-05       1669     1243    0     0     0\n",
       "137 2013-05-05       1609     1632    0     0     0\n",
       "138 2013-05-05       1092      910    0     0     0\n",
       "139 2013-05-05       1278      867    0     0     0"
      ]
     },
     "execution_count": 3,
     "metadata": {},
     "output_type": "execute_result"
    }
   ],
   "source": [
    "# remove requests that start and finish at the same node\n",
    "same_node = reqs[reqs['from_node']==reqs['to_node']]\n",
    "\n",
    "print(f'Will be removing {len(same_node)} requests that start and finish at the same node')\n",
    "\n",
    "clean = reqs.drop(same_node.index)\n",
    "clean.head()"
   ]
  },
  {
   "cell_type": "code",
   "execution_count": 4,
   "id": "5806b706",
   "metadata": {},
   "outputs": [],
   "source": [
    "# dump in new csv\n",
    "clean.loc[:,['time','from_node','to_node']].to_csv('ride_requests.csv',index=False)\n",
    "# clean.head()"
   ]
  },
  {
   "cell_type": "code",
   "execution_count": null,
   "id": "32008f3a",
   "metadata": {},
   "outputs": [],
   "source": []
  }
 ],
 "metadata": {
  "kernelspec": {
   "display_name": "Python 3.8.5 64-bit ('base': conda)",
   "language": "python",
   "name": "python385jvsc74a57bd0fb0fd543912f75ed56bb612de7cf44481b37760b527945aa670f16f1d69a9a1a"
  },
  "language_info": {
   "codemirror_mode": {
    "name": "ipython",
    "version": 3
   },
   "file_extension": ".py",
   "mimetype": "text/x-python",
   "name": "python",
   "nbconvert_exporter": "python",
   "pygments_lexer": "ipython3",
   "version": "3.8.5"
  }
 },
 "nbformat": 4,
 "nbformat_minor": 5
}
