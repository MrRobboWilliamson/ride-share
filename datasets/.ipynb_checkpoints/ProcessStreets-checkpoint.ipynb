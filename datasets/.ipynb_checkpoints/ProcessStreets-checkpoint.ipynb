{
 "cells": [
  {
   "cell_type": "markdown",
   "id": "aecce75c",
   "metadata": {},
   "source": [
    "Need to process streets into links and nodes, with nodes as intersections"
   ]
  },
  {
   "cell_type": "code",
   "execution_count": 4,
   "id": "9846bcbf",
   "metadata": {},
   "outputs": [],
   "source": [
    "import pandas as pd\n",
    "streets = pd.read_csv('nyc_streets.csv')"
   ]
  },
  {
   "cell_type": "code",
   "execution_count": 5,
   "id": "a08a187c",
   "metadata": {},
   "outputs": [
    {
     "data": {
      "text/html": [
       "<div>\n",
       "<style scoped>\n",
       "    .dataframe tbody tr th:only-of-type {\n",
       "        vertical-align: middle;\n",
       "    }\n",
       "\n",
       "    .dataframe tbody tr th {\n",
       "        vertical-align: top;\n",
       "    }\n",
       "\n",
       "    .dataframe thead th {\n",
       "        text-align: right;\n",
       "    }\n",
       "</style>\n",
       "<table border=\"1\" class=\"dataframe\">\n",
       "  <thead>\n",
       "    <tr style=\"text-align: right;\">\n",
       "      <th></th>\n",
       "      <th>street</th>\n",
       "      <th>name</th>\n",
       "      <th>type</th>\n",
       "      <th>oneway</th>\n",
       "      <th>node</th>\n",
       "      <th>lat</th>\n",
       "      <th>lon</th>\n",
       "    </tr>\n",
       "  </thead>\n",
       "  <tbody>\n",
       "    <tr>\n",
       "      <th>0</th>\n",
       "      <td>5536174</td>\n",
       "      <td>Spalding</td>\n",
       "      <td>residential</td>\n",
       "      <td>NaN</td>\n",
       "      <td>40692646</td>\n",
       "      <td>45.856978</td>\n",
       "      <td>-111.335147</td>\n",
       "    </tr>\n",
       "    <tr>\n",
       "      <th>1</th>\n",
       "      <td>5536174</td>\n",
       "      <td>Spalding</td>\n",
       "      <td>residential</td>\n",
       "      <td>NaN</td>\n",
       "      <td>40692649</td>\n",
       "      <td>45.856341</td>\n",
       "      <td>-111.335835</td>\n",
       "    </tr>\n",
       "    <tr>\n",
       "      <th>2</th>\n",
       "      <td>5536174</td>\n",
       "      <td>Spalding</td>\n",
       "      <td>residential</td>\n",
       "      <td>NaN</td>\n",
       "      <td>40692651</td>\n",
       "      <td>45.855332</td>\n",
       "      <td>-111.336933</td>\n",
       "    </tr>\n",
       "    <tr>\n",
       "      <th>3</th>\n",
       "      <td>5536174</td>\n",
       "      <td>Spalding</td>\n",
       "      <td>residential</td>\n",
       "      <td>NaN</td>\n",
       "      <td>40692654</td>\n",
       "      <td>45.854907</td>\n",
       "      <td>-111.337376</td>\n",
       "    </tr>\n",
       "    <tr>\n",
       "      <th>4</th>\n",
       "      <td>5536174</td>\n",
       "      <td>Spalding</td>\n",
       "      <td>residential</td>\n",
       "      <td>NaN</td>\n",
       "      <td>961882034</td>\n",
       "      <td>45.854679</td>\n",
       "      <td>-111.337719</td>\n",
       "    </tr>\n",
       "  </tbody>\n",
       "</table>\n",
       "</div>"
      ],
      "text/plain": [
       "    street      name         type oneway       node        lat         lon\n",
       "0  5536174  Spalding  residential    NaN   40692646  45.856978 -111.335147\n",
       "1  5536174  Spalding  residential    NaN   40692649  45.856341 -111.335835\n",
       "2  5536174  Spalding  residential    NaN   40692651  45.855332 -111.336933\n",
       "3  5536174  Spalding  residential    NaN   40692654  45.854907 -111.337376\n",
       "4  5536174  Spalding  residential    NaN  961882034  45.854679 -111.337719"
      ]
     },
     "execution_count": 5,
     "metadata": {},
     "output_type": "execute_result"
    }
   ],
   "source": [
    "streets.head()"
   ]
  },
  {
   "cell_type": "markdown",
   "id": "0d823ae7",
   "metadata": {},
   "source": [
    "An intersecion is a node with shared streets\n",
    "\n",
    "### Useful info\n",
    "The nodes defining the geometry of the way are enumerated in the correct order, and indicated only by reference using their unique identifier. These nodes must have been already defined separately with their coordinates. \n",
    "\n",
    "### Tasks\n",
    "- find nodes that are intersections\n",
    "- removed intersections at the same geographical locations\n",
    "- "
   ]
  },
  {
   "cell_type": "code",
   "execution_count": 13,
   "id": "71ee563c",
   "metadata": {},
   "outputs": [
    {
     "data": {
      "text/plain": [
       "8233"
      ]
     },
     "execution_count": 13,
     "metadata": {},
     "output_type": "execute_result"
    }
   ],
   "source": [
    "# get nodes that appear more than once - assume these are intersections\n",
    "node_counts = streets['node'].value_counts()\n",
    "inters = node_counts[node_counts.values > 1]\n",
    "len(inters)\n",
    "\n",
    "# create streets as start and end nodes\n"
   ]
  },
  {
   "cell_type": "code",
   "execution_count": null,
   "id": "67d83b9b",
   "metadata": {},
   "outputs": [],
   "source": []
  }
 ],
 "metadata": {
  "kernelspec": {
   "display_name": "Python 3.8.5 64-bit ('base': conda)",
   "language": "python",
   "name": "python385jvsc74a57bd0fb0fd543912f75ed56bb612de7cf44481b37760b527945aa670f16f1d69a9a1a"
  },
  "language_info": {
   "codemirror_mode": {
    "name": "ipython",
    "version": 3
   },
   "file_extension": ".py",
   "mimetype": "text/x-python",
   "name": "python",
   "nbconvert_exporter": "python",
   "pygments_lexer": "ipython3",
   "version": "3.8.5"
  }
 },
 "nbformat": 4,
 "nbformat_minor": 5
}
