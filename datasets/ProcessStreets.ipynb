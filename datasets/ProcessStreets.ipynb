{
 "cells": [
  {
   "cell_type": "markdown",
   "id": "126d3c3a",
   "metadata": {},
   "source": [
    "Need to process streets into links and nodes, with nodes as intersections"
   ]
  },
  {
   "cell_type": "code",
   "execution_count": 2,
   "id": "425c312c",
   "metadata": {},
   "outputs": [],
   "source": [
    "import pandas as pd\n",
    "streets = pd.read_csv('nyc_streets.csv')"
   ]
  },
  {
   "cell_type": "code",
   "execution_count": 3,
   "id": "e58042c8",
   "metadata": {},
   "outputs": [
    {
     "data": {
      "text/html": [
       "<div>\n",
       "<style scoped>\n",
       "    .dataframe tbody tr th:only-of-type {\n",
       "        vertical-align: middle;\n",
       "    }\n",
       "\n",
       "    .dataframe tbody tr th {\n",
       "        vertical-align: top;\n",
       "    }\n",
       "\n",
       "    .dataframe thead th {\n",
       "        text-align: right;\n",
       "    }\n",
       "</style>\n",
       "<table border=\"1\" class=\"dataframe\">\n",
       "  <thead>\n",
       "    <tr style=\"text-align: right;\">\n",
       "      <th></th>\n",
       "      <th>name</th>\n",
       "      <th>type</th>\n",
       "      <th>node</th>\n",
       "      <th>lat</th>\n",
       "      <th>lon</th>\n",
       "    </tr>\n",
       "  </thead>\n",
       "  <tbody>\n",
       "    <tr>\n",
       "      <th>0</th>\n",
       "      <td>Spalding</td>\n",
       "      <td>residential</td>\n",
       "      <td>40692646</td>\n",
       "      <td>45.856978</td>\n",
       "      <td>-111.335147</td>\n",
       "    </tr>\n",
       "    <tr>\n",
       "      <th>1</th>\n",
       "      <td>Spalding</td>\n",
       "      <td>residential</td>\n",
       "      <td>40692649</td>\n",
       "      <td>45.856341</td>\n",
       "      <td>-111.335835</td>\n",
       "    </tr>\n",
       "    <tr>\n",
       "      <th>2</th>\n",
       "      <td>Spalding</td>\n",
       "      <td>residential</td>\n",
       "      <td>40692651</td>\n",
       "      <td>45.855332</td>\n",
       "      <td>-111.336933</td>\n",
       "    </tr>\n",
       "    <tr>\n",
       "      <th>3</th>\n",
       "      <td>Spalding</td>\n",
       "      <td>residential</td>\n",
       "      <td>40692654</td>\n",
       "      <td>45.854907</td>\n",
       "      <td>-111.337376</td>\n",
       "    </tr>\n",
       "    <tr>\n",
       "      <th>4</th>\n",
       "      <td>Spalding</td>\n",
       "      <td>residential</td>\n",
       "      <td>961882034</td>\n",
       "      <td>45.854679</td>\n",
       "      <td>-111.337719</td>\n",
       "    </tr>\n",
       "  </tbody>\n",
       "</table>\n",
       "</div>"
      ],
      "text/plain": [
       "       name         type       node        lat         lon\n",
       "0  Spalding  residential   40692646  45.856978 -111.335147\n",
       "1  Spalding  residential   40692649  45.856341 -111.335835\n",
       "2  Spalding  residential   40692651  45.855332 -111.336933\n",
       "3  Spalding  residential   40692654  45.854907 -111.337376\n",
       "4  Spalding  residential  961882034  45.854679 -111.337719"
      ]
     },
     "execution_count": 3,
     "metadata": {},
     "output_type": "execute_result"
    }
   ],
   "source": [
    "streets.head()"
   ]
  },
  {
   "cell_type": "markdown",
   "id": "9059b20c",
   "metadata": {},
   "source": [
    "An intersecion is a node with shared streets\n",
    "\n",
    "### Useful info\n",
    "The nodes defining the geometry of the way are enumerated in the correct order, and indicated only by reference using their unique identifier. These nodes must have been already defined separately with their coordinates. "
   ]
  },
  {
   "cell_type": "code",
   "execution_count": null,
   "id": "05257f06",
   "metadata": {},
   "outputs": [],
   "source": []
  }
 ],
 "metadata": {
  "kernelspec": {
   "display_name": "Python 3.8.5 64-bit ('base': conda)",
   "language": "python",
   "name": "python385jvsc74a57bd0fb0fd543912f75ed56bb612de7cf44481b37760b527945aa670f16f1d69a9a1a"
  },
  "language_info": {
   "codemirror_mode": {
    "name": "ipython",
    "version": 3
   },
   "file_extension": ".py",
   "mimetype": "text/x-python",
   "name": "python",
   "nbconvert_exporter": "python",
   "pygments_lexer": "ipython3",
   "version": "3.8.5"
  }
 },
 "nbformat": 4,
 "nbformat_minor": 5
}
