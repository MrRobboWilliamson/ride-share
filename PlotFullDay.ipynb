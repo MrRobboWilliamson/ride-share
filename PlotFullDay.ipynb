{
 "cells": [
  {
   "cell_type": "code",
   "execution_count": 1,
   "id": "618ba08b",
   "metadata": {},
   "outputs": [],
   "source": [
    "import sys\n",
    "from source_data import Requests\n",
    "import pandas as pd\n",
    "import numpy as np\n",
    "import matplotlib.pyplot as plt\n",
    "import seaborn as sns\n",
    "import os\n",
    "OUT_FOLDER = r'output_logs/211026104226'"
   ]
  },
  {
   "cell_type": "code",
   "execution_count": 2,
   "id": "da3df5a5",
   "metadata": {},
   "outputs": [
    {
     "data": {
      "text/plain": [
       "array([ 0.,  3.,  6.,  9., 12.])"
      ]
     },
     "execution_count": 2,
     "metadata": {},
     "output_type": "execute_result"
    }
   ],
   "source": [
    "anarray = np.zeros((5,))\n",
    "listofarrays = [np.array(range(5)) for i in range(3)]\n",
    "\n",
    "for arr in listofarrays:\n",
    "    anarray += arr\n",
    "\n",
    "anarray"
   ]
  },
  {
   "cell_type": "code",
   "execution_count": 3,
   "id": "b351c759",
   "metadata": {},
   "outputs": [
    {
     "data": {
      "text/plain": [
       "array([0])"
      ]
     },
     "execution_count": 3,
     "metadata": {},
     "output_type": "execute_result"
    }
   ],
   "source": [
    "np.random.randint((5,))"
   ]
  },
  {
   "cell_type": "code",
   "execution_count": 4,
   "id": "dd2844c5",
   "metadata": {},
   "outputs": [
    {
     "name": "stdout",
     "output_type": "stream",
     "text": [
      "(779001, 5)\n"
     ]
    }
   ],
   "source": [
    "# get the model output logs\n",
    "out_logs = []\n",
    "for fnm in os.listdir(OUT_FOLDER):\n",
    "    \n",
    "    # ignore the computation log\n",
    "    if fnm[0] != 'c':\n",
    "        out_logs.append(pd.read_csv(os.path.join(OUT_FOLDER,fnm),dtype=dict(passenger_id=int)))\n",
    "\n",
    "# concatenate them together\n",
    "out_df = pd.concat(out_logs).sort_values(['time_stamp']).reset_index(drop=True)\n",
    "\n",
    "print(out_df.shape)\n",
    "out_df.head()\n",
    "\n",
    "# get the min and max times\n",
    "MINT = out_df['time_stamp'].min()\n",
    "MAXT = out_df['time_stamp'].max()"
   ]
  },
  {
   "cell_type": "markdown",
   "id": "cf08cc98",
   "metadata": {},
   "source": [
    "Check the passengers are only picked up and dropped off once:"
   ]
  },
  {
   "cell_type": "code",
   "execution_count": 5,
   "id": "8625cdd1",
   "metadata": {},
   "outputs": [
    {
     "data": {
      "text/plain": [
       "array([1])"
      ]
     },
     "execution_count": 5,
     "metadata": {},
     "output_type": "execute_result"
    }
   ],
   "source": [
    "np.unique((out_df['passenger_id'].astype(str)+\" \"+out_df['event']).value_counts().values)"
   ]
  },
  {
   "cell_type": "code",
   "execution_count": 6,
   "id": "8b848062",
   "metadata": {},
   "outputs": [
    {
     "data": {
      "text/html": [
       "<div>\n",
       "<style scoped>\n",
       "    .dataframe tbody tr th:only-of-type {\n",
       "        vertical-align: middle;\n",
       "    }\n",
       "\n",
       "    .dataframe tbody tr th {\n",
       "        vertical-align: top;\n",
       "    }\n",
       "\n",
       "    .dataframe thead th {\n",
       "        text-align: right;\n",
       "    }\n",
       "</style>\n",
       "<table border=\"1\" class=\"dataframe\">\n",
       "  <thead>\n",
       "    <tr style=\"text-align: right;\">\n",
       "      <th></th>\n",
       "      <th>time_stamp</th>\n",
       "      <th>passenger_id</th>\n",
       "      <th>location</th>\n",
       "    </tr>\n",
       "  </thead>\n",
       "  <tbody>\n",
       "    <tr>\n",
       "      <th>count</th>\n",
       "      <td>779001.000000</td>\n",
       "      <td>7.790010e+05</td>\n",
       "      <td>779001.000000</td>\n",
       "    </tr>\n",
       "    <tr>\n",
       "      <th>mean</th>\n",
       "      <td>495733.709556</td>\n",
       "      <td>2.125574e+06</td>\n",
       "      <td>1580.055318</td>\n",
       "    </tr>\n",
       "    <tr>\n",
       "      <th>std</th>\n",
       "      <td>21494.360503</td>\n",
       "      <td>1.240842e+05</td>\n",
       "      <td>816.757281</td>\n",
       "    </tr>\n",
       "    <tr>\n",
       "      <th>min</th>\n",
       "      <td>450030.000000</td>\n",
       "      <td>1.899066e+06</td>\n",
       "      <td>0.000000</td>\n",
       "    </tr>\n",
       "    <tr>\n",
       "      <th>25%</th>\n",
       "      <td>477365.000000</td>\n",
       "      <td>2.022356e+06</td>\n",
       "      <td>981.000000</td>\n",
       "    </tr>\n",
       "    <tr>\n",
       "      <th>50%</th>\n",
       "      <td>498712.000000</td>\n",
       "      <td>2.126669e+06</td>\n",
       "      <td>1538.000000</td>\n",
       "    </tr>\n",
       "    <tr>\n",
       "      <th>75%</th>\n",
       "      <td>513304.000000</td>\n",
       "      <td>2.231902e+06</td>\n",
       "      <td>2183.000000</td>\n",
       "    </tr>\n",
       "    <tr>\n",
       "      <th>max</th>\n",
       "      <td>540000.000000</td>\n",
       "      <td>2.342379e+06</td>\n",
       "      <td>4083.000000</td>\n",
       "    </tr>\n",
       "  </tbody>\n",
       "</table>\n",
       "</div>"
      ],
      "text/plain": [
       "          time_stamp  passenger_id       location\n",
       "count  779001.000000  7.790010e+05  779001.000000\n",
       "mean   495733.709556  2.125574e+06    1580.055318\n",
       "std     21494.360503  1.240842e+05     816.757281\n",
       "min    450030.000000  1.899066e+06       0.000000\n",
       "25%    477365.000000  2.022356e+06     981.000000\n",
       "50%    498712.000000  2.126669e+06    1538.000000\n",
       "75%    513304.000000  2.231902e+06    2183.000000\n",
       "max    540000.000000  2.342379e+06    4083.000000"
      ]
     },
     "execution_count": 6,
     "metadata": {},
     "output_type": "execute_result"
    }
   ],
   "source": [
    "# print out the time range\n",
    "out_df.describe()"
   ]
  },
  {
   "cell_type": "code",
   "execution_count": 7,
   "id": "b8b5fa62",
   "metadata": {},
   "outputs": [
    {
     "name": "stdout",
     "output_type": "stream",
     "text": [
      "25.0\n"
     ]
    },
    {
     "data": {
      "text/html": [
       "<div>\n",
       "<style scoped>\n",
       "    .dataframe tbody tr th:only-of-type {\n",
       "        vertical-align: middle;\n",
       "    }\n",
       "\n",
       "    .dataframe tbody tr th {\n",
       "        vertical-align: top;\n",
       "    }\n",
       "\n",
       "    .dataframe thead th {\n",
       "        text-align: right;\n",
       "    }\n",
       "</style>\n",
       "<table border=\"1\" class=\"dataframe\">\n",
       "  <thead>\n",
       "    <tr style=\"text-align: right;\">\n",
       "      <th></th>\n",
       "      <th>time</th>\n",
       "      <th>from_node</th>\n",
       "      <th>to_node</th>\n",
       "      <th>window</th>\n",
       "      <th>day</th>\n",
       "      <th>hour</th>\n",
       "      <th>latest_pickup</th>\n",
       "    </tr>\n",
       "  </thead>\n",
       "  <tbody>\n",
       "    <tr>\n",
       "      <th>1899089</th>\n",
       "      <td>450030</td>\n",
       "      <td>1533</td>\n",
       "      <td>1523</td>\n",
       "      <td>15001</td>\n",
       "      <td>5</td>\n",
       "      <td>5</td>\n",
       "      <td>450150</td>\n",
       "    </tr>\n",
       "    <tr>\n",
       "      <th>1899090</th>\n",
       "      <td>450031</td>\n",
       "      <td>1213</td>\n",
       "      <td>900</td>\n",
       "      <td>15001</td>\n",
       "      <td>5</td>\n",
       "      <td>5</td>\n",
       "      <td>450151</td>\n",
       "    </tr>\n",
       "    <tr>\n",
       "      <th>1899091</th>\n",
       "      <td>450035</td>\n",
       "      <td>2342</td>\n",
       "      <td>1274</td>\n",
       "      <td>15001</td>\n",
       "      <td>5</td>\n",
       "      <td>5</td>\n",
       "      <td>450155</td>\n",
       "    </tr>\n",
       "    <tr>\n",
       "      <th>1899092</th>\n",
       "      <td>450039</td>\n",
       "      <td>3158</td>\n",
       "      <td>2183</td>\n",
       "      <td>15001</td>\n",
       "      <td>5</td>\n",
       "      <td>5</td>\n",
       "      <td>450159</td>\n",
       "    </tr>\n",
       "    <tr>\n",
       "      <th>1899093</th>\n",
       "      <td>450047</td>\n",
       "      <td>632</td>\n",
       "      <td>277</td>\n",
       "      <td>15001</td>\n",
       "      <td>5</td>\n",
       "      <td>5</td>\n",
       "      <td>450167</td>\n",
       "    </tr>\n",
       "  </tbody>\n",
       "</table>\n",
       "</div>"
      ],
      "text/plain": [
       "           time  from_node  to_node  window  day  hour  latest_pickup\n",
       "1899089  450030       1533     1523   15001    5     5         450150\n",
       "1899090  450031       1213      900   15001    5     5         450151\n",
       "1899091  450035       2342     1274   15001    5     5         450155\n",
       "1899092  450039       3158     2183   15001    5     5         450159\n",
       "1899093  450047        632      277   15001    5     5         450167"
      ]
     },
     "execution_count": 7,
     "metadata": {},
     "output_type": "execute_result"
    }
   ],
   "source": [
    "# get the requests in the first hour\n",
    "reqs = Requests().read_requests()\n",
    "reqs = reqs[(reqs['time']>=MINT)&(reqs['time']<=MAXT)]\n",
    "\n",
    "# how many hours is this?\n",
    "print(f\"{(MAXT-MINT)/3600:0.1f}\")\n",
    "\n",
    "reqs.head()"
   ]
  },
  {
   "cell_type": "code",
   "execution_count": 8,
   "id": "3ac444ef",
   "metadata": {},
   "outputs": [
    {
     "data": {
      "image/png": "[encoded data removed]",
      "text/plain": [
       "<Figure size 720x288 with 1 Axes>"
      ]
     },
     "metadata": {
      "needs_background": "light"
     },
     "output_type": "display_data"
    }
   ],
   "source": [
    "# summarise the requests by hour\n",
    "numreqs_by_window = reqs.groupby(['window']).\\\n",
    "    agg('count')['time'].\\\n",
    "    rename(\"num_requests\")\n",
    "\n",
    "# plot a rolling 15 minute average\n",
    "fig,ax = plt.subplots(figsize=[10,4])\n",
    "numreqs_by_window.\\\n",
    "    rolling(30).mean().plot(alpha=0.6,ax=ax)\n",
    "\n",
    "# count the number of request picked up in each window\n",
    "# numreqs_by_window.plot()\n",
    "ax.set_title(\"Number of ride requests per time interval ($\\delta$=30s)\")\n",
    "ax.set_ylabel(\"Number of requests\")\n",
    "ax.set_xlabel(\"Time interval\")\n",
    "# ax.set_ylim([0,350])\n",
    "ax.set_xlim([15000,18000])\n",
    "sns.despine()\n",
    "fig.tight_layout()\n",
    "plt.savefig(r\"results/numrequests_24.jpg\")"
   ]
  },
  {
   "cell_type": "code",
   "execution_count": 9,
   "id": "f118f1ec",
   "metadata": {},
   "outputs": [
    {
     "data": {
      "text/html": [
       "<div>\n",
       "<style scoped>\n",
       "    .dataframe tbody tr th:only-of-type {\n",
       "        vertical-align: middle;\n",
       "    }\n",
       "\n",
       "    .dataframe tbody tr th {\n",
       "        vertical-align: top;\n",
       "    }\n",
       "\n",
       "    .dataframe thead th {\n",
       "        text-align: right;\n",
       "    }\n",
       "</style>\n",
       "<table border=\"1\" class=\"dataframe\">\n",
       "  <thead>\n",
       "    <tr style=\"text-align: right;\">\n",
       "      <th></th>\n",
       "      <th>num_requests</th>\n",
       "      <th>num_pickups</th>\n",
       "    </tr>\n",
       "    <tr>\n",
       "      <th>window</th>\n",
       "      <th></th>\n",
       "      <th></th>\n",
       "    </tr>\n",
       "  </thead>\n",
       "  <tbody>\n",
       "    <tr>\n",
       "      <th>15001.0</th>\n",
       "      <td>6</td>\n",
       "      <td>6.0</td>\n",
       "    </tr>\n",
       "    <tr>\n",
       "      <th>15002.0</th>\n",
       "      <td>25</td>\n",
       "      <td>25.0</td>\n",
       "    </tr>\n",
       "    <tr>\n",
       "      <th>15003.0</th>\n",
       "      <td>5</td>\n",
       "      <td>5.0</td>\n",
       "    </tr>\n",
       "    <tr>\n",
       "      <th>15004.0</th>\n",
       "      <td>20</td>\n",
       "      <td>20.0</td>\n",
       "    </tr>\n",
       "    <tr>\n",
       "      <th>15005.0</th>\n",
       "      <td>10</td>\n",
       "      <td>10.0</td>\n",
       "    </tr>\n",
       "  </tbody>\n",
       "</table>\n",
       "</div>"
      ],
      "text/plain": [
       "         num_requests  num_pickups\n",
       "window                            \n",
       "15001.0             6          6.0\n",
       "15002.0            25         25.0\n",
       "15003.0             5          5.0\n",
       "15004.0            20         20.0\n",
       "15005.0            10         10.0"
      ]
     },
     "execution_count": 9,
     "metadata": {},
     "output_type": "execute_result"
    }
   ],
   "source": [
    "# get the timewindows for the pickups\n",
    "pickups = out_df[out_df['event']=='pickup'].reset_index(drop=True)\n",
    "pickups = pickups.join(reqs.loc[:,'window'],on=['passenger_id'])\n",
    "numpicks_by_window = pickups.groupby(['window']).agg('count')['time_stamp'].rename(\"num_pickups\")\n",
    "\n",
    "# stick it all together\n",
    "result = pd.concat([numreqs_by_window,numpicks_by_window],axis=1)\n",
    "result.head()"
   ]
  },
  {
   "cell_type": "code",
   "execution_count": 10,
   "id": "48b96c50",
   "metadata": {},
   "outputs": [
    {
     "data": {
      "image/png": "[encoded data removed]",
      "text/plain": [
       "<Figure size 720x288 with 1 Axes>"
      ]
     },
     "metadata": {
      "needs_background": "light"
     },
     "output_type": "display_data"
    }
   ],
   "source": [
    "# need to convert to proportion\n",
    "proportion = result.copy()\n",
    "proportion['Picked up'] = proportion['num_pickups'] / proportion['num_requests']\n",
    "proportion['Ignored'] = 1 - proportion['Picked up']\n",
    "\n",
    "# plot proportion of requests that are picked up\n",
    "fig,ax = plt.subplots(figsize=[10,4])\n",
    "ax = proportion.loc[:,['Picked up','Ignored']].rolling(30).mean().plot.area(ax=ax)\n",
    "\n",
    "# format the plot\n",
    "ax.set_xlabel(\"Time interval\")\n",
    "ax.set_ylabel(\"Proportion of requests\")\n",
    "ax.set_title(\"Proportion of picked up requests per time interval ($\\delta$=30s)\")\n",
    "ax.set_xlim([15120,17900])\n",
    "ax.set_ylim([0,1])\n",
    "sns.despine()\n",
    "fig.tight_layout()\n",
    "plt.savefig(r\"results/rolling_pickedup_24.jpg\")"
   ]
  },
  {
   "cell_type": "code",
   "execution_count": 11,
   "id": "28d1b4a5",
   "metadata": {},
   "outputs": [],
   "source": [
    "def cab_utilisation(cab_data):\n",
    "        \n",
    "    # convert pickup / dropoffs to change in state\n",
    "    state = cab_data.copy().sort_values(['time_stamp'])\n",
    "    state['change'] = cab_data['event'].copy().map(lambda x: 1 if x == 'pickup' else -1)\n",
    "    \n",
    "    # where concurrent events occur, we have sum them to get the net result\n",
    "    change = state.groupby(['time_stamp'])['change'].agg('sum')\n",
    "        \n",
    "    # apply cumsum to get payload load\n",
    "    payload = np.cumsum(change)\n",
    "    \n",
    "    # check if utilised and convert to number  \n",
    "    utilised = pd.DataFrame((payload > 0).astype(int),index=payload.index).reset_index()\n",
    "    \n",
    "    return utilised\n",
    "\n",
    "# assess whether a cab is utilised or not > 0 passengers\n",
    "cab_use = []\n",
    "for cab,data in out_df.groupby(['cab_id']):\n",
    "    \n",
    "    cab_util = cab_utilisation(data)\n",
    "    cab_util['cab_id'] = cab\n",
    "    cab_use.append(cab_util)\n",
    "    \n",
    "cab_use = pd.concat(cab_use,ignore_index=True).rename(columns=dict(change='utilised'))"
   ]
  },
  {
   "cell_type": "code",
   "execution_count": 12,
   "id": "c2c89f76",
   "metadata": {},
   "outputs": [],
   "source": [
    "# create a common time index for all cabs\n",
    "# its a little bit shorter than all time\n",
    "time_index = pd.Index(cab_use['time_stamp'].unique(),name=\"time_index\").sort_values()\n",
    "dummy_col = pd.Series(data=[np.nan]*time_index.shape[0],index=time_index,name='dummy')\n",
    "\n",
    "def fill_gaps(cab_data):\n",
    "    \n",
    "    # add the common index\n",
    "    cab_data = cab_data.join(dummy_col,on=['time_stamp'],how='right').\\\n",
    "        loc[:,['time_stamp','utilised']].\\\n",
    "        sort_values(['time_stamp']).reset_index(drop=True)\n",
    "        \n",
    "    # if the utilisation at time 0 is na then set it to 0\n",
    "    if cab_data['utilised'].isnull().iloc[0]:\n",
    "        cab_data.iloc[0,1] = 0\n",
    "        \n",
    "    # now fill down to the next state change\n",
    "    return cab_data.fillna(method='ffill').set_index(['time_stamp'])\n",
    "\n",
    "utilisations = []\n",
    "for cab,data in cab_use.groupby(['cab_id']):\n",
    "    utilisations.append(fill_gaps(data))"
   ]
  },
  {
   "cell_type": "code",
   "execution_count": 13,
   "id": "614728e3",
   "metadata": {},
   "outputs": [
    {
     "data": {
      "text/html": [
       "<div>\n",
       "<style scoped>\n",
       "    .dataframe tbody tr th:only-of-type {\n",
       "        vertical-align: middle;\n",
       "    }\n",
       "\n",
       "    .dataframe tbody tr th {\n",
       "        vertical-align: top;\n",
       "    }\n",
       "\n",
       "    .dataframe thead th {\n",
       "        text-align: right;\n",
       "    }\n",
       "</style>\n",
       "<table border=\"1\" class=\"dataframe\">\n",
       "  <thead>\n",
       "    <tr style=\"text-align: right;\">\n",
       "      <th></th>\n",
       "      <th>utilised</th>\n",
       "    </tr>\n",
       "    <tr>\n",
       "      <th>time_stamp</th>\n",
       "      <th></th>\n",
       "    </tr>\n",
       "  </thead>\n",
       "  <tbody>\n",
       "    <tr>\n",
       "      <th>450030</th>\n",
       "      <td>0.0</td>\n",
       "    </tr>\n",
       "    <tr>\n",
       "      <th>450034</th>\n",
       "      <td>0.0</td>\n",
       "    </tr>\n",
       "    <tr>\n",
       "      <th>450052</th>\n",
       "      <td>0.0</td>\n",
       "    </tr>\n",
       "    <tr>\n",
       "      <th>450060</th>\n",
       "      <td>0.0</td>\n",
       "    </tr>\n",
       "    <tr>\n",
       "      <th>450084</th>\n",
       "      <td>0.0</td>\n",
       "    </tr>\n",
       "  </tbody>\n",
       "</table>\n",
       "</div>"
      ],
      "text/plain": [
       "            utilised\n",
       "time_stamp          \n",
       "450030           0.0\n",
       "450034           0.0\n",
       "450052           0.0\n",
       "450060           0.0\n",
       "450084           0.0"
      ]
     },
     "execution_count": 13,
     "metadata": {},
     "output_type": "execute_result"
    }
   ],
   "source": [
    "utilisations[0].head()"
   ]
  },
  {
   "cell_type": "code",
   "execution_count": 14,
   "id": "c26b5b84",
   "metadata": {},
   "outputs": [
    {
     "data": {
      "text/plain": [
       "[<matplotlib.lines.Line2D at 0x7f8413e91d00>]"
      ]
     },
     "execution_count": 14,
     "metadata": {},
     "output_type": "execute_result"
    },
    {
     "data": {
      "image/png": "[encoded data removed]",
      "text/plain": [
       "<Figure size 432x288 with 1 Axes>"
      ]
     },
     "metadata": {
      "needs_background": "light"
     },
     "output_type": "display_data"
    }
   ],
   "source": [
    "# create a container to add up utilised cabs in each time slot\n",
    "num_utilised = np.zeros((dummy_col.shape[0],))\n",
    "for cab_util in utilisations:\n",
    "    \n",
    "    num_utilised += cab_util.values.flatten()\n",
    "\n",
    "plt.plot(num_utilised)"
   ]
  },
  {
   "cell_type": "code",
   "execution_count": 15,
   "id": "f7d3198c",
   "metadata": {},
   "outputs": [],
   "source": [
    "# now caculate the proportion utilised\n",
    "proportion_utilised = num_utilised / 3000\n",
    "diff_utilised = 1 - proportion_utilised\n",
    "to_plot = pd.concat([pd.Series(proportion_utilised,index=time_index),\n",
    "                     pd.Series(diff_utilised,index=time_index)],axis=1)\n",
    "to_plot.columns = [\"Utilised\",\"Empty\"]"
   ]
  },
  {
   "cell_type": "code",
   "execution_count": 16,
   "id": "6c925c06",
   "metadata": {},
   "outputs": [
    {
     "data": {
      "image/png": "[encoded data removed]",
      "text/plain": [
       "<Figure size 720x288 with 1 Axes>"
      ]
     },
     "metadata": {
      "needs_background": "light"
     },
     "output_type": "display_data"
    }
   ],
   "source": [
    "# plot proportion of requests that are picked up\n",
    "fig,ax = plt.subplots(figsize=[10,4])\n",
    "ax = to_plot.plot.area(ax=ax)\n",
    "\n",
    "# format the plot\n",
    "ax.set_xlabel(\"Time (s) from simulation start\")\n",
    "ax.set_ylabel(\"Proportion of taxis\")\n",
    "ax.set_title(\"Proportion of taxis utilised\")\n",
    "ax.set_ylim([0,1])\n",
    "ax.set_xlim([MINT,MAXT])\n",
    "sns.despine()\n",
    "fig.tight_layout()\n",
    "plt.savefig(r\"results/utilised_cabs24.jpg\")"
   ]
  },
  {
   "cell_type": "markdown",
   "id": "93325d12",
   "metadata": {},
   "source": [
    "Show computational metrics over the day"
   ]
  },
  {
   "cell_type": "code",
   "execution_count": null,
   "id": "fdb7f6d1",
   "metadata": {},
   "outputs": [],
   "source": []
  }
 ],
 "metadata": {
  "kernelspec": {
   "display_name": "Python 3 (ipykernel)",
   "language": "python",
   "name": "python3"
  },
  "language_info": {
   "codemirror_mode": {
    "name": "ipython",
    "version": 3
   },
   "file_extension": ".py",
   "mimetype": "text/x-python",
   "name": "python",
   "nbconvert_exporter": "python",
   "pygments_lexer": "ipython3",
   "version": "3.8.5"
  }
 },
 "nbformat": 4,
 "nbformat_minor": 5
}
